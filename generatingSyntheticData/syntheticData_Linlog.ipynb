{
 "cells": [
  {
   "cell_type": "markdown",
   "metadata": {},
   "source": [
    "# Module 0: Generation of synthetic metabolomics & proteomics time-series data based on predetermined models"
   ]
  },
  {
   "cell_type": "markdown",
   "metadata": {},
   "source": [
    "# Preliminary settings\n",
    "All output files will be appended with shelve_name to distinguish different runs of the notebook."
   ]
  },
  {
   "cell_type": "code",
   "execution_count": 1,
   "metadata": {
    "ExecuteTime": {
     "end_time": "2023-10-15T01:38:33.828326Z",
     "start_time": "2023-10-15T01:38:33.812152Z"
    },
    "scrolled": false
   },
   "outputs": [],
   "source": [
    "shelve_name='G3PCX_K_Linlog_'\n",
    "all_enzymes = ['AtoB', 'HMGS', 'HMGR', 'MK', 'PMK', 'PMD', 'GPPS', 'Idi','Limonene Synthase']\n",
    "all_metabolites = ['Acetyl-CoA','Acetoacetyl-CoA','HMG-CoA','Mev','MevP','MevPP','IPP','DMAPP','GPP','Limonene']"
   ]
  },
  {
   "cell_type": "markdown",
   "metadata": {},
   "source": [
    "If set to 'True', unnecessary evaluations & plots are skipped to facilitate codes development.  "
   ]
  },
  {
   "cell_type": "markdown",
   "metadata": {},
   "source": [
    "# Import needed libraries"
   ]
  },
  {
   "cell_type": "code",
   "execution_count": 2,
   "metadata": {
    "ExecuteTime": {
     "end_time": "2023-10-15T01:38:36.501100Z",
     "start_time": "2023-10-15T01:38:33.828326Z"
    },
    "scrolled": false
   },
   "outputs": [],
   "source": [
    "from IPython.display import display\n",
    "import pandas as pd\n",
    "from plot import *\n",
    "import seaborn as sns\n",
    "import math"
   ]
  },
  {
   "cell_type": "markdown",
   "metadata": {},
   "source": [
    "# Define kinetic model\n",
    "\n",
    "ODEs of limonene pathway reactions as provided by Costello et al. 2018 & in the same order. \n",
    "\n",
    "Provided here to facilitate understanding & reconstruction of ODEs."
   ]
  },
  {
   "cell_type": "code",
   "execution_count": 3,
   "metadata": {
    "ExecuteTime": {
     "end_time": "2023-10-15T01:38:38.666809Z",
     "start_time": "2023-10-15T01:38:36.501100Z"
    },
    "code_folding": [],
    "scrolled": true
   },
   "outputs": [],
   "source": [
    "from KineticLearning import leaky_hill_fcn, proteomicsData\n",
    "    \n",
    "def kinetic_model(e1,e2,e3,e4,e5,e6,e7,e8,e9, #HC: 9\n",
    "                   s1,s2,s3,s4,s5,s6,s7,s8,s9,s10, #HC: 10\n",
    "                   k11,k12,\n",
    "                   k21,k22,k23,\n",
    "                   k31,k32,k33,k34,\n",
    "                   k41,k42,k43,k44,\n",
    "                   k51,k52,\n",
    "                   k61,k62,k63,k64,\n",
    "                   k71,k72,\n",
    "                   k81,k82,k83,\n",
    "                   k91,k92,\n",
    "                   Vin): #HC: 27\n",
    "\n",
    "    r1 = e1 *( (10**k11) + (10**k12)*np.log(s1) )\n",
    "    r2 = e2 *( (10**k21) + (10**k22)*np.log(s1) + (10**k23)*np.log(s2) ) \n",
    "    r3 = e3 *( (10**k31) - (10**k32)*np.log(s1) - (10**k33)*np.log(s2) + (10**k34)*np.log(s3) )\n",
    "    r4 = e4 *( (10**k41) + (10**k42)*np.log(s4) - (10**k43)*np.log(s9) - (10**k44)*np.log(s6) )\n",
    "    r5 = e5 *( (10**k51) + (10**k52)*np.log(s5) )\n",
    "    r6 = e6 *( (10**k61) + (10**k62)*np.log(s6) - (10**k63)*np.log(s5) - (10**k64)*np.log(s4) )\n",
    "    r7 = e7 *( (10**k71) + (10**k72)*np.log(s7) )\n",
    "    r8 = e8 *( (10**k81) + (10**k82)*np.log(s7) + (10**k83)*np.log(s8) )\n",
    "    r9 = e9 *( (10**k91) + (10**k92)*np.log(s9) )\n",
    "    r10 = 10**Vin # AcCoA supply\n",
    "\n",
    "    # net metabolite turnover in Costello et al.\n",
    "    rs1 = r10 - r1 - r2     \n",
    "    rs2 = r1 - r2\n",
    "    rs3 = r2 - r3\n",
    "    rs4 = r3 - r4\n",
    "    rs5 = r4 - r5\n",
    "    rs6 = r5 - r6\n",
    "    rs7 = r6 - r7 - r8\n",
    "    rs8 = r7 - r8\n",
    "    rs9 = r8 - r9\n",
    "    rs10 = r9\n",
    "\n",
    "    return [rs1,rs2,rs3,rs4,rs5,rs6,rs7,rs8,rs9,rs10]\n",
    "    \n",
    "def kinetic_model_xtk(s,t,k):\n",
    "\n",
    "    # Return rate of reaction vector (r1, r2, ..., r10) based on e,s,kr\n",
    "    # s: metabolites conc vector\n",
    "    # t: time point for getting enzymes conc\n",
    "    # k: rate law parameters vector ('ke' followed by 'kr')\n",
    "    \n",
    "    #print('len of param vec',len(k))\n",
    "    #print('KineticCoefficients',k[3*9:],len(k[3*9:]))\n",
    "    #print('Proteomics',k[:3*9],len(k[:3*9]))\n",
    "    \n",
    "    # get e\n",
    "    ke = k[:3*9] #HC: 3 ke values for each of 9 enzymes\n",
    "    e = proteomicsData(t,ke)\n",
    "    \n",
    "    # get kr\n",
    "    kr = k[3*9:] #HC: rest of k are krs\n",
    "    #HC: check e,s,kr\n",
    "    #print(len(e),len(x),len(kr))\n",
    "\n",
    "    return kinetic_model(*e,*s,*kr) # list of 'r' "
   ]
  },
  {
   "cell_type": "markdown",
   "metadata": {},
   "source": [
    "# * SET rate constant kr"
   ]
  },
  {
   "cell_type": "code",
   "execution_count": 4,
   "metadata": {
    "ExecuteTime": {
     "end_time": "2023-10-15T01:38:38.709594Z",
     "start_time": "2023-10-15T01:38:38.677026Z"
    },
    "code_folding": []
   },
   "outputs": [
    {
     "name": "stdout",
     "output_type": "stream",
     "text": [
      "27 kr parameters in same order as their input into kinetic_model function:\n",
      "[-7.900742943333333, -8.400988573333334, -7.6014103099999994, -8.79977012, -8.301672323333333, -7.10760661, -8.0999399, -10.383119396666666, -7.707053429999999, -6.806362383333333, -7.30669661, -8.004376383333332, -7.9083689999999995, -6.8046178033333335, -7.404648433333333, -7.40956479, -7.899632626666666, -9.069975136666667, -8.384111110000001, -6.502307706666667, -7.30233268, -6.718441853333334, -7.51860529, -11.999999153333334, -7.320815083333333, -7.821748626666667, -1.30103]\n"
     ]
    }
   ],
   "source": [
    "# G3PCX 0% noise\n",
    "kr=[-7.900742943333333,\n",
    " -8.400988573333334,\n",
    " -7.6014103099999994,\n",
    " -8.79977012,\n",
    " -8.301672323333333,\n",
    " -7.10760661,\n",
    " -8.0999399,\n",
    " -10.383119396666666,\n",
    " -7.707053429999999,\n",
    " -6.806362383333333,\n",
    " -7.30669661,\n",
    " -8.004376383333332,\n",
    " -7.9083689999999995,\n",
    " -6.8046178033333335,\n",
    " -7.404648433333333,\n",
    " -7.40956479,\n",
    " -7.899632626666666,\n",
    " -9.069975136666667,\n",
    " -8.384111110000001,\n",
    " -6.502307706666667,\n",
    " -7.30233268,\n",
    " -6.718441853333334,\n",
    " -7.51860529,\n",
    " -11.999999153333334,\n",
    " -7.320815083333333,\n",
    " -7.821748626666667, -1.30103]\n",
    "\n",
    "print (str(len(kr))+' kr parameters in same order as their input into kinetic_model function:')\n",
    "print (kr)"
   ]
  },
  {
   "cell_type": "markdown",
   "metadata": {},
   "source": [
    "# * SET Ke parameters (kf, kl, km) for WT\n",
    "\n",
    "e = kf * t / (km + t)   + kl <br>\n",
    "where kf: maximum increase in enzyme conc <br>\n",
    "km: hours required to increase the enzyme conc by 1/2*kf <br>\n",
    "kl: enzyme conc at hour = 0"
   ]
  },
  {
   "cell_type": "markdown",
   "metadata": {},
   "source": [
    "1. define km parameters\n",
    "\n",
    "- km: randomly SET between 0.1 t & 9 hours\n",
    "\n",
    "- kf: randomly initialized between 1e5 & 1e6                                              \n",
    "\n",
    "- kl: randomly SET between 1e1 to 1e2"
   ]
  },
  {
   "cell_type": "code",
   "execution_count": 5,
   "metadata": {
    "ExecuteTime": {
     "end_time": "2023-10-15T01:38:38.737179Z",
     "start_time": "2023-10-15T01:38:38.719684Z"
    }
   },
   "outputs": [
    {
     "name": "stdout",
     "output_type": "stream",
     "text": [
      "km values defined...\n",
      "\n",
      "kf, kl values initialized for 9 enzymes:\n",
      "[2.74397961e+06 1.23333609e-01 5.94696230e+01 2.74128957e+06\n",
      " 4.78331022e-01 3.97301339e+01 1.81859454e+06 6.57343870e-01\n",
      " 3.69689206e+01 2.06730910e+06 6.59020449e-01 5.76227885e+01\n",
      " 1.53831978e+06 5.62220309e-01 2.65995879e+01 4.14134059e+06\n",
      " 8.68577763e-01 5.44813154e+01 4.38624594e+06 1.71680929e-01\n",
      " 5.54721481e+01 1.26114602e+06 4.85310095e-01 1.86877824e+01\n",
      " 1.50863989e+06 6.37070778e-01 3.03410801e+01]\n"
     ]
    }
   ],
   "source": [
    "#--- set initial parameter bounds for each enzyme\n",
    "bounds = [(1e6,5e6),(0.1,1),(1e1,1e2)]*9\n",
    "lower_bound = [bound[0] for bound in bounds] # reformat bounds\n",
    "upper_bound = [bound[1] for bound in bounds]\n",
    "\n",
    "# For creating replicable WT template, NOT noise !!\n",
    "np.random.seed(2)\n",
    "\n",
    "# get random kf, km, kl values based on bounds\n",
    "ke = np.random.uniform(low=lower_bound,high=upper_bound)\n",
    "\n",
    "print('km values defined...\\n\\nkf, kl values initialized for ' + str(int(len(ke)/3)) + ' enzymes:')\n",
    "print (ke)"
   ]
  },
  {
   "cell_type": "markdown",
   "metadata": {},
   "source": [
    "2. define kl parameters\n",
    "- i.e., enzyme expression values at t =0 from the 3 empirical strains"
   ]
  },
  {
   "cell_type": "markdown",
   "metadata": {},
   "source": [
    "3. define kf parameters"
   ]
  },
  {
   "cell_type": "markdown",
   "metadata": {},
   "source": [
    "# --- SET data points requirement for synthetic data"
   ]
  },
  {
   "cell_type": "code",
   "execution_count": 6,
   "metadata": {
    "ExecuteTime": {
     "end_time": "2023-10-15T01:38:38.751457Z",
     "start_time": "2023-10-15T01:38:38.740395Z"
    },
    "scrolled": false
   },
   "outputs": [],
   "source": [
    "# no. data points needed per hour\n",
    "datapointsPerHr = 4\n",
    "\n",
    "# no. hours required\n",
    "hr = 24\n",
    "\n",
    "# resulting total no. data points required\n",
    "noDataPts=hr*datapointsPerHr + 1 # include data for time=0\n",
    "\n",
    "# Generate array of evenly-spaced time points betw max & min time\n",
    "timePoints = np.linspace(0,hr,noDataPts)"
   ]
  },
  {
   "cell_type": "markdown",
   "metadata": {},
   "source": [
    "# --- SET biological noise\n",
    "\n",
    "For all strains, affects:\n",
    "- initial enzyme conc (kl values)\n",
    "- initial metabolite conc"
   ]
  },
  {
   "cell_type": "code",
   "execution_count": 7,
   "metadata": {
    "ExecuteTime": {
     "end_time": "2023-10-15T01:38:38.775217Z",
     "start_time": "2023-10-15T01:38:38.754589Z"
    },
    "code_folding": [],
    "scrolled": false
   },
   "outputs": [],
   "source": [
    "biologicalNoise = 0.0 # 0.025: Gaussian noise with standard deviation of 2.5% of underlying value\n",
    "biologicalNoiseSeed = 0"
   ]
  },
  {
   "cell_type": "markdown",
   "metadata": {},
   "source": [
    "# Explore synthetic time-series data for enzymes in WT\n",
    "\n",
    "to appreciate effects of kf, km, kl"
   ]
  },
  {
   "cell_type": "code",
   "execution_count": 8,
   "metadata": {
    "ExecuteTime": {
     "end_time": "2023-10-15T01:38:40.017815Z",
     "start_time": "2023-10-15T01:38:38.775217Z"
    },
    "code_folding": [],
    "scrolled": true
   },
   "outputs": [
    {
     "name": "stdout",
     "output_type": "stream",
     "text": [
      "no. time series: 9\n",
      "data points in each time series:97\n",
      "\n",
      "AtoB\n"
     ]
    },
    {
     "data": {
      "image/png": "[encoded data removed]",
      "text/plain": [
       "<Figure size 640x480 with 1 Axes>"
      ]
     },
     "metadata": {},
     "output_type": "display_data"
    },
    {
     "name": "stdout",
     "output_type": "stream",
     "text": [
      "HMGS\n"
     ]
    },
    {
     "data": {
      "image/png": "[encoded data removed]",
      "text/plain": [
       "<Figure size 640x480 with 1 Axes>"
      ]
     },
     "metadata": {},
     "output_type": "display_data"
    },
    {
     "name": "stdout",
     "output_type": "stream",
     "text": [
      "HMGR\n"
     ]
    },
    {
     "data": {
      "image/png": "[encoded data removed]",
      "text/plain": [
       "<Figure size 640x480 with 1 Axes>"
      ]
     },
     "metadata": {},
     "output_type": "display_data"
    },
    {
     "name": "stdout",
     "output_type": "stream",
     "text": [
      "MK\n"
     ]
    },
    {
     "data": {
      "image/png": "[encoded data removed]",
      "text/plain": [
       "<Figure size 640x480 with 1 Axes>"
      ]
     },
     "metadata": {},
     "output_type": "display_data"
    },
    {
     "name": "stdout",
     "output_type": "stream",
     "text": [
      "PMK\n"
     ]
    },
    {
     "data": {
      "image/png": "[encoded data removed]",
      "text/plain": [
       "<Figure size 640x480 with 1 Axes>"
      ]
     },
     "metadata": {},
     "output_type": "display_data"
    },
    {
     "name": "stdout",
     "output_type": "stream",
     "text": [
      "PMD\n"
     ]
    },
    {
     "data": {
      "image/png": "[encoded data removed]",
      "text/plain": [
       "<Figure size 640x480 with 1 Axes>"
      ]
     },
     "metadata": {},
     "output_type": "display_data"
    },
    {
     "name": "stdout",
     "output_type": "stream",
     "text": [
      "GPPS\n"
     ]
    },
    {
     "data": {
      "image/png": "[encoded data removed]",
      "text/plain": [
       "<Figure size 640x480 with 1 Axes>"
      ]
     },
     "metadata": {},
     "output_type": "display_data"
    },
    {
     "name": "stdout",
     "output_type": "stream",
     "text": [
      "Idi\n"
     ]
    },
    {
     "data": {
      "image/png": "[encoded data removed]",
      "text/plain": [
       "<Figure size 640x480 with 1 Axes>"
      ]
     },
     "metadata": {},
     "output_type": "display_data"
    },
    {
     "name": "stdout",
     "output_type": "stream",
     "text": [
      "Limonene Synthase\n"
     ]
    },
    {
     "data": {
      "image/png": "[encoded data removed]",
      "text/plain": [
       "<Figure size 640x480 with 1 Axes>"
      ]
     },
     "metadata": {},
     "output_type": "display_data"
    }
   ],
   "source": [
    "from KineticLearning import plotAllEnzymesTimeSeries, getAllEnzymesTimeSeries\n",
    "\n",
    "# Evaluate time-series data for the 9 enzymes in WT \n",
    "allEnzymesTimeSeries=getAllEnzymesTimeSeries(timePoints, ke)\n",
    "\n",
    "print('no. time series: ' + str(len(allEnzymesTimeSeries)))\n",
    "print('data points in each time series:' + str(len(allEnzymesTimeSeries[1])) + '\\n')\n",
    "\n",
    "# Plot enzyme time series profiles for sanity check of ke values \n",
    "plotAllEnzymesTimeSeries(all_enzymes, allEnzymesTimeSeries,timePoints)\n"
   ]
  },
  {
   "cell_type": "markdown",
   "metadata": {},
   "source": [
    "# --- Read in recommended strains design\n",
    "1: WT\n",
    "2: over-expression\n",
    "0: knockdown"
   ]
  },
  {
   "cell_type": "code",
   "execution_count": 9,
   "metadata": {
    "ExecuteTime": {
     "end_time": "2023-10-15T01:38:40.049851Z",
     "start_time": "2023-10-15T01:38:40.021577Z"
    },
    "scrolled": true
   },
   "outputs": [
    {
     "name": "stdout",
     "output_type": "stream",
     "text": [
      "ART design for Strain 1 read in:\n",
      "[2, 2, 0, 2, 1, 2, 1, 1, 0]\n",
      "\n",
      "\n",
      "ART design for Strain 2 read in:\n",
      "[1, 0, 2, 1, 0, 0, 2, 2, 2]\n",
      "\n",
      "\n",
      "ART design for Strain 3 read in:\n",
      "[0, 1, 1, 0, 2, 1, 0, 0, 1]\n",
      "\n",
      "\n",
      "Completed reading of\n",
      "4strains_initial_design_seed10.csv\n",
      "-------------------------------------------\n",
      "\n"
     ]
    }
   ],
   "source": [
    "\n",
    "#--- manual inclusion of strains recommendation\n",
    "design={} # dictionary using strain as key to hold a list of enzyme design in same order as their conc in kinetic_model\n",
    "design['WT']=[1]*9 # WT design for 9 enzymes\n",
    "# design['Strain_111']=[1]*4+[2]*5 # design of 1st four enzymes= 1, last five = 2\n",
    "# design['Strain_222']=[0,0,0,0,2,2,2,2,2] # design of 1st four enzymes= 0, last five = 2\n",
    "\n",
    "###--- include strain designs from ART\n",
    "# remember to remove last line from recommendation file\n",
    "from KineticLearning import readARTrecommendationFile\n",
    "design = readARTrecommendationFile (design, all_enzymes, '4strains_initial_design_seed10.csv')\n",
    "\n",
    "listStrains=design.keys()\n"
   ]
  },
  {
   "cell_type": "markdown",
   "metadata": {},
   "source": [
    "# Translate strains design to kf/m/l values"
   ]
  },
  {
   "cell_type": "code",
   "execution_count": 10,
   "metadata": {
    "ExecuteTime": {
     "end_time": "2023-10-15T01:38:40.060426Z",
     "start_time": "2023-10-15T01:38:40.052359Z"
    }
   },
   "outputs": [
    {
     "name": "stdout",
     "output_type": "stream",
     "text": [
      "Design parameter: kf\n"
     ]
    }
   ],
   "source": [
    "# Specify which enzyme expression parameter to design\n",
    "design_K = 'kf' # 'kf', 'km', 'kl'\n",
    "\n",
    "if design_K == 'kf':\n",
    "    ke_startPosition= 0\n",
    "    print ('Design parameter: kf')\n",
    "elif design_K == 'km':\n",
    "    ke_startPosition=1\n",
    "    print ('Design parameter: km')\n",
    "elif design_K == 'kl':\n",
    "    ke_startPosition == 2\n",
    "    print ('Design parameter: kl')\n",
    "else:\n",
    "    print ('WARNING; ENZYME PARAMETER K(f/l/m) TO DESIGN UNCLEAR.')"
   ]
  },
  {
   "cell_type": "code",
   "execution_count": 11,
   "metadata": {
    "ExecuteTime": {
     "end_time": "2023-10-15T01:38:40.098459Z",
     "start_time": "2023-10-15T01:38:40.070972Z"
    }
   },
   "outputs": [
    {
     "name": "stdout",
     "output_type": "stream",
     "text": [
      "kf for WT read in:\n",
      "[2743979.608568015, 2741289.5704731075, 1818594.53615137, 2067309.1004114666, 1538319.7813797342, 4141340.591266694, 4386245.941429872, 1261146.0175475124, 1508639.88680511]\n",
      "\n",
      "from WT ke:\n",
      "[2.74397961e+06 1.23333609e-01 5.94696230e+01 2.74128957e+06\n",
      " 4.78331022e-01 3.97301339e+01 1.81859454e+06 6.57343870e-01\n",
      " 3.69689206e+01 2.06730910e+06 6.59020449e-01 5.76227885e+01\n",
      " 1.53831978e+06 5.62220309e-01 2.65995879e+01 4.14134059e+06\n",
      " 8.68577763e-01 5.44813154e+01 4.38624594e+06 1.71680929e-01\n",
      " 5.54721481e+01 1.26114602e+06 4.85310095e-01 1.86877824e+01\n",
      " 1.50863989e+06 6.37070778e-01 3.03410801e+01]\n"
     ]
    }
   ],
   "source": [
    "#--- read enzyme conc in WT\n",
    "kl_WT=[]\n",
    "for i in range(ke_startPosition,len(ke),3): #every 3rd value in ke starting from ke_startPosition\n",
    "    kl_WT.append(ke[i])\n",
    "\n",
    "# PRINT OUT\n",
    "print ( design_K + ' for WT read in:')\n",
    "print (kl_WT)\n",
    "print ('\\nfrom WT ke:')\n",
    "print (ke)"
   ]
  },
  {
   "cell_type": "code",
   "execution_count": 12,
   "metadata": {
    "ExecuteTime": {
     "end_time": "2023-10-15T01:38:40.131114Z",
     "start_time": "2023-10-15T01:38:40.105707Z"
    },
    "code_folding": [
     25
    ],
    "scrolled": true
   },
   "outputs": [
    {
     "name": "stdout",
     "output_type": "stream",
     "text": [
      "9 kf values translated for:\n",
      "\n",
      "WT\n",
      "[2743979.608568015, 2741289.5704731075, 1818594.53615137, 2067309.1004114666, 1538319.7813797342, 4141340.591266694, 4386245.941429872, 1261146.0175475124, 1508639.88680511]\n",
      "Strain 1\n",
      "[6821533.306900086, 6814845.872196146, 785632.8396173918, 5139330.423622906, 1538319.7813797342, 10295372.709889002, 4386245.941429872, 1261146.0175475124, 651732.4310998075]\n",
      "Strain 2\n",
      "[2743979.608568015, 1184237.0944443825, 4521026.016872306, 2067309.1004114666, 664554.1455560451, 1789059.1354272119, 10904207.410394663, 3135208.999623116, 3750478.7585975034]\n",
      "Strain 3\n",
      "[1185399.1909013826, 2741289.5704731075, 1818594.53615137, 893077.5313777536, 3824262.9765100195, 4141340.591266694, 1894858.2466977048, 544815.0795805254, 1508639.88680511]\n"
     ]
    }
   ],
   "source": [
    "#--- translate design to enzyme conc for recommended strains\n",
    "from KineticLearning import addNoise, addNoise2\n",
    "\n",
    "design_kl={}\n",
    "print ( '9 ' + design_K + ' values translated for:\\n')\n",
    "\n",
    "# biologicalNoise = 0.05\n",
    "\n",
    "for strain in listStrains: # go thru each strain\n",
    "\n",
    "    if len(design[strain]) == len (kl_WT):\n",
    "\n",
    "        designList=design[strain] # get design for all enzymes (1:unchanged, 2: upreg, 0: downreg)\n",
    "\n",
    "        # map to actual protein levels (% of WT)\n",
    "        for i in range(len(designList)): #go thru each enzyme design\n",
    "            if designList[i] == 2:\n",
    "                designList[i]= kl_WT[i]*2.486 # 92%/37% promoter strength, Shukal et al. 2019 virifloral paper\n",
    "            elif designList[i] == 0:\n",
    "                designList[i]= kl_WT[i]*0.432 # 16%/37% promoter strength\n",
    "            else:\n",
    "                designList[i]=kl_WT[i]*1.0 # All other design assumed to be 1 (unchanged)\n",
    "\n",
    "        # add biological noise to kl values (initial conc)\n",
    "        designList = addNoise2(designList, biologicalNoise, biologicalNoiseSeed) # 0 make biologically-noisy kl values replicable\n",
    "        \n",
    "        design_kl[strain]=designList # store designed kl (initial enzymes conc) for each strain\n",
    "        print (strain)\n",
    "        print (design_kl[strain])\n",
    "    else:\n",
    "        print ('Number of enzymes being accounted for in design dict for ' + strain + ' not matching kl_WT list')\n"
   ]
  },
  {
   "cell_type": "markdown",
   "metadata": {},
   "source": [
    "# * SET initial metabolites conc"
   ]
  },
  {
   "cell_type": "code",
   "execution_count": 13,
   "metadata": {
    "ExecuteTime": {
     "end_time": "2023-10-15T01:38:40.159745Z",
     "start_time": "2023-10-15T01:38:40.140486Z"
    },
    "code_folding": [
     0
    ],
    "scrolled": false
   },
   "outputs": [
    {
     "name": "stdout",
     "output_type": "stream",
     "text": [
      "INITIAL metabolite conc with their ordering following model reactions:\n",
      "[0.3, 0.2, 0.05, 0.3, 0.02, 0.2, 0.01, 0.04, 0.05, 0.0]\n"
     ]
    }
   ],
   "source": [
    "# initial conc -------- AcCoA,'AcAcCoA,HMG-CoA,Mev,MevP,MevPP,IPP,DMAPP,GPP,Limonene\n",
    "initialMetabolitesConc = [0.3,   0.2,  0.05,  0.3, 0.02, 0.2, 0.01, 0.04, 0.05, 0] # like empirical data\n",
    "\n",
    "# set initial limonene conc at 0, other 9 metabolites at 0.2\n",
    "#initialMetabolitesConc = [0.2]*(10-1) + [0]\n",
    "\n",
    "# biologicalNoise = 0.05\n",
    "# noiseSeed =2\n",
    "\n",
    "# add biological variations\n",
    "initialMetabolitesConc = addNoise2(initialMetabolitesConc, biologicalNoise, biologicalNoiseSeed)\n",
    "\n",
    "print ('INITIAL metabolite conc with their ordering following model reactions:\\n' +str(initialMetabolitesConc))"
   ]
  },
  {
   "cell_type": "markdown",
   "metadata": {},
   "source": [
    "# --- SET technical noise\n",
    "\n",
    "Affects enzymes & conc measurements\n",
    "\n",
    "Technical replicates: change 'technicalNoiseSeed' variable & rerun this & next 3 sections."
   ]
  },
  {
   "cell_type": "code",
   "execution_count": 14,
   "metadata": {
    "ExecuteTime": {
     "end_time": "2023-10-15T01:38:40.180746Z",
     "start_time": "2023-10-15T01:38:40.161770Z"
    }
   },
   "outputs": [
    {
     "name": "stdout",
     "output_type": "stream",
     "text": [
      "technical noise:0.0\n"
     ]
    }
   ],
   "source": [
    "# Convention: technicalNoiseSeed = 0 -> no noise\n",
    "#             technicalNoiseSeed = 1 -> replicate 1 with noise\n",
    "#             technicalNoiseSeed = 2 -> replicate 2 with noise\n",
    "#             technicalNoiseSeed = 3 -> replicate 3 with noise\n",
    "# ENSURE technicalNoiseSeed & replicate variables CORRESPOND, i.e., 1 <-> '1'\n",
    "\n",
    "technicalNoiseSeed = 0 # Any different number to generate different replicate\n",
    "\n",
    "if technicalNoiseSeed == 0:\n",
    "    noiseLevel = 0 #\n",
    "else:\n",
    "    noiseLevel = 50 # to change\n",
    "\n",
    "technicalNoise = noiseLevel/1000 # Gaussian noise with standard deviation of 2.5% of underlying value\n",
    "    \n",
    "replicate = str(technicalNoiseSeed) + str('rep_') + str(noiseLevel) + 'noiseLevel' # Any different string to change output to a different file\n",
    "\n",
    "print ('technical noise:' + str(technicalNoise))"
   ]
  },
  {
   "cell_type": "markdown",
   "metadata": {},
   "source": [
    "# Simulate metabolomics & proteomics time-series data for recommended strains"
   ]
  },
  {
   "cell_type": "code",
   "execution_count": 15,
   "metadata": {
    "ExecuteTime": {
     "end_time": "2023-10-15T01:38:40.515183Z",
     "start_time": "2023-10-15T01:38:40.183561Z"
    },
    "code_folding": [
     10
    ],
    "scrolled": true
   },
   "outputs": [
    {
     "name": "stdout",
     "output_type": "stream",
     "text": [
      "97 time-series datapoints solved for 10 metabolites for all strains\n"
     ]
    }
   ],
   "source": [
    "from scipy.integrate import odeint,ode\n",
    "import csv\n",
    "\n",
    "# headers for output files\n",
    "CSV = [ ['Strain','Time/hours'] + all_metabolites ]\n",
    "CSV2 = [ ['Strain','Time/hours'] + all_enzymes ]\n",
    "\n",
    "sol_strain={} # dict [strain] = a list with each element holding time-series conc for a metabolite\n",
    "noisy_sol_strain={} # include noise for above\n",
    "\n",
    "#listStrains =[]\n",
    "#listStrains.append('WT')\n",
    "\n",
    "\n",
    "\n",
    "for strain in listStrains: # for each of first 8 strains\n",
    "    \n",
    "    designKlList=design_kl[strain]  # get its kl value for enzymes\n",
    "    keList=ke # prepare its ke template\n",
    "\n",
    "    # update ke template with its kf/m/l values\n",
    "    count=0\n",
    "    for i in range(ke_startPosition,len(keList),3): # every 3rd value in keList starting from ke_startPosition\n",
    "        keList[i]= designKlList[count]\n",
    "        count=count+1\n",
    "    '''\n",
    "    print ('\\nke of designed strain ' + strain + ': ')\n",
    "    print (keList)\n",
    "    print ('Updated using designed kl')\n",
    "    print (designKlList)\n",
    "    '''\n",
    "    \n",
    "    # Build customized model\n",
    "    ODE = lambda metabolites,t: kinetic_model_xtk( metabolites, t, np.append(keList, kr))\n",
    "    \n",
    "    # Solve for metabolite conc at various timePoints based on initialMetabolitesConc\n",
    "    sol = odeint(ODE,initialMetabolitesConc,timePoints).tolist()\n",
    "    sol_strain [strain]=sol\n",
    "    # print (sol_strain[strain])\n",
    "    \n",
    "    # Include measurement noise for metabolites\n",
    "    sol = addNoise(sol,technicalNoise, technicalNoiseSeed)\n",
    "    noisy_sol_strain [strain] = sol\n",
    "    # print (str(len(sol)) + ' time-series datapoints solved for '  + str(len(sol[0])) + ' metabolites in ' + strain + ' strain')\n",
    "    \n",
    "    # Metabolite print format\n",
    "    lines = [  [ strain,timePoints[i] ] + line for i,line in enumerate(sol)  ]\n",
    "    CSV = CSV + lines\n",
    "    \n",
    "    # Enzyme print format\n",
    "    sol2=[]\n",
    "    for t in timePoints:\n",
    "        e = proteomicsData(t,keList) # get vector of enzyme conc at time t\n",
    "        sol2.append(e)\n",
    "    # Include measurement noise for enzymes\n",
    "    sol2 = addNoise(sol2, technicalNoise, technicalNoiseSeed)\n",
    "    lines2 = [  [ strain,timePoints[i] ] + line for i,line in enumerate(sol2)  ]\n",
    "    CSV2 = CSV2 + lines2\n",
    "\n",
    "print (str(len(sol)) + ' time-series datapoints solved for '  + str(len(sol[0])) + ' metabolites for all strains')"
   ]
  },
  {
   "cell_type": "markdown",
   "metadata": {},
   "source": [
    "# ** Output simulated strain data to file\n",
    "\n",
    "\n",
    "Technical replicates: re-run previous two sections with this one."
   ]
  },
  {
   "cell_type": "code",
   "execution_count": 16,
   "metadata": {
    "ExecuteTime": {
     "end_time": "2023-10-15T01:38:40.558735Z",
     "start_time": "2023-10-15T01:38:40.519207Z"
    },
    "code_folding": []
   },
   "outputs": [
    {
     "name": "stdout",
     "output_type": "stream",
     "text": [
      "\n",
      "data/0rep_0noiseLevel_G3PCX_K_Linlog_4strains_ENZYME.csv created.\n",
      "\n",
      "data/0rep_0noiseLevel_G3PCX_K_Linlog_4strains_METABOLITE.csv created.\n"
     ]
    }
   ],
   "source": [
    "# Output simulated enzyme data to file \n",
    "fileName2 = 'data/' + replicate + '_' + shelve_name + str(len(listStrains)) + 'strains_ENZYME.csv'\n",
    "with open(fileName2, 'w', newline='') as csvfile2:\n",
    "    writer2 = csv.writer(csvfile2)\n",
    "    writer2.writerows(CSV2)\n",
    "print ('\\n' + fileName2 + ' created.') \n",
    "\n",
    "# Output simulated metabolite data to file \n",
    "fileName =  'data/' + replicate + '_' + shelve_name + str(len(listStrains)) + 'strains_METABOLITE.csv'\n",
    "with open(fileName, 'w', newline='') as csvfile:\n",
    "    writer = csv.writer(csvfile)\n",
    "    writer.writerows(CSV)\n",
    "print ('\\n' + fileName + ' created.')"
   ]
  },
  {
   "cell_type": "markdown",
   "metadata": {},
   "source": [
    "# convert small negative metabolite conc. values ( magnitude < 10**-7) to e-12\n",
    "\n",
    "i.e., simulate machine error"
   ]
  },
  {
   "cell_type": "code",
   "execution_count": 17,
   "metadata": {
    "ExecuteTime": {
     "end_time": "2023-10-15T01:38:40.607516Z",
     "start_time": "2023-10-15T01:38:40.558735Z"
    },
    "code_folding": [
     2
    ]
   },
   "outputs": [],
   "source": [
    "df_1=pd.read_csv(fileName)\n",
    "\n",
    "# convert any value in file to 0 if < 0\n",
    "# df_1X=df_1.apply(lambda x: x.apply(lambda y: 0 if y < 0 else y) if np.issubdtype(x.dtype, np.number) else x)\n",
    "\n",
    "# convert any value in file to e-12 if <= 0\n",
    "df_1X=df_1.apply(lambda x: x.apply(lambda y: 10**-12 if y < 0.0 else y) if np.issubdtype(x.dtype, np.number) else x)\n",
    "df_1X.to_csv(fileName+'.csv', index=False)\n",
    "\n",
    "# remove earlier file\n",
    "import os\n",
    "os.remove(fileName)"
   ]
  },
  {
   "cell_type": "markdown",
   "metadata": {},
   "source": [
    "# Explore simulated metabolite kinetics in WT"
   ]
  },
  {
   "cell_type": "code",
   "execution_count": 18,
   "metadata": {
    "ExecuteTime": {
     "end_time": "2023-10-15T01:38:40.627533Z",
     "start_time": "2023-10-15T01:38:40.607516Z"
    },
    "code_folding": [],
    "scrolled": true
   },
   "outputs": [],
   "source": [
    "# from KineticLearning import plotSimulatedKinetics\n",
    "# sol_WT = noisy_sol_strain['WT']\n",
    "# plotSimulatedKinetics (all_metabolites, sol_WT,timePoints)"
   ]
  }
 ],
 "metadata": {
  "kernelspec": {
   "display_name": "Python 3 (ipykernel)",
   "language": "python",
   "name": "python3"
  },
  "language_info": {
   "codemirror_mode": {
    "name": "ipython",
    "version": 3
   },
   "file_extension": ".py",
   "mimetype": "text/x-python",
   "name": "python",
   "nbconvert_exporter": "python",
   "pygments_lexer": "ipython3",
   "version": "3.9.13"
  },
  "notify_time": "10",
  "toc": {
   "base_numbering": 1,
   "nav_menu": {},
   "number_sections": true,
   "sideBar": true,
   "skip_h1_title": false,
   "title_cell": "Table of Contents",
   "title_sidebar": "Contents",
   "toc_cell": false,
   "toc_position": {
    "height": "577.018px",
    "left": "716px",
    "top": "123.529px",
    "width": "211.946px"
   },
   "toc_section_display": true,
   "toc_window_display": true
  },
  "varInspector": {
   "cols": {
    "lenName": 16,
    "lenType": 16,
    "lenVar": 40
   },
   "kernels_config": {
    "python": {
     "delete_cmd_postfix": "",
     "delete_cmd_prefix": "del ",
     "library": "var_list.py",
     "varRefreshCmd": "print(var_dic_list())"
    },
    "r": {
     "delete_cmd_postfix": ") ",
     "delete_cmd_prefix": "rm(",
     "library": "var_list.r",
     "varRefreshCmd": "cat(var_dic_list()) "
    }
   },
   "types_to_exclude": [
    "module",
    "function",
    "builtin_function_or_method",
    "instance",
    "_Feature"
   ],
   "window_display": false
  }
 },
 "nbformat": 4,
 "nbformat_minor": 2
}
